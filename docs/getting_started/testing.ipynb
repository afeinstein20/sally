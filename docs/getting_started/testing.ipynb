{
 "cells": [
  {
   "cell_type": "code",
   "execution_count": 6,
   "metadata": {},
   "outputs": [],
   "source": [
    "import numpy as np\n",
    "from tqdm import tqdm_notebook\n",
    "import matplotlib.pyplot as plt\n",
    "import sys\n",
    "from astroquery.vizier import Vizier\n",
    "import os\n",
    "import lightkurve as lk\n",
    "\n",
    "\n",
    "sys.path.insert(0, '../..')\n",
    "\n",
    "import stella\n"
   ]
  },
  {
   "cell_type": "code",
   "execution_count": 7,
   "metadata": {},
   "outputs": [],
   "source": [
    "fn_dir = os.path.join(os.path.expanduser('~'), '.stella')\n",
    "flare_catalog_name = 'Guenther_2020_flare_catalog.txt'"
   ]
  },
  {
   "cell_type": "code",
   "execution_count": 8,
   "metadata": {},
   "outputs": [
    {
     "data": {
      "text/plain": [
       "['IV/38', 'IV/39', 'J/AJ/159/60']"
      ]
     },
     "execution_count": 8,
     "metadata": {},
     "output_type": "execute_result"
    }
   ],
   "source": [
    "['IV/38', 'IV/39', 'J/AJ/159/60']"
   ]
  },
  {
   "cell_type": "code",
   "execution_count": 12,
   "metadata": {},
   "outputs": [
    {
     "data": {
      "text/html": [
       "<div><i>Table length=8695</i>\n",
       "<table id=\"table10856271456\" class=\"table-striped table-bordered table-condensed\">\n",
       "<thead><tr><th>TIC</th><th>Outbst</th><th>Flare</th><th>_tab2_5</th><th>e_tpeak</th><th>E_tpeak</th><th>Amp</th><th>e_Amp</th><th>E_Amp</th><th>FWHMdt</th><th>e_FWHMdt</th><th>E_FWHMdt</th><th>Ebol</th><th>e_Ebol</th><th>E_Ebol</th><th>MCME</th><th>e_MCME</th><th>E_MCME</th></tr></thead>\n",
       "<thead><tr><th></th><th></th><th></th><th>d</th><th>d</th><th>d</th><th></th><th></th><th></th><th>d</th><th>d</th><th>d</th><th>1e-07 J</th><th>1e-07 J</th><th>1e-07 J</th><th>g</th><th>g</th><th>g</th></tr></thead>\n",
       "<thead><tr><th>int32</th><th>int16</th><th>uint8</th><th>float64</th><th>float64</th><th>float64</th><th>float64</th><th>float64</th><th>float64</th><th>float32</th><th>float32</th><th>float32</th><th>float32</th><th>float32</th><th>float32</th><th>float32</th><th>float32</th><th>float32</th></tr></thead>\n",
       "<tr><td>2760232</td><td>1</td><td>1</td><td>2458357.381046</td><td>0.000863</td><td>0.000854</td><td>0.01475</td><td>0.00168</td><td>0.00170</td><td>0.01958</td><td>0.00307</td><td>0.00375</td><td>--</td><td>--</td><td>--</td><td>--</td><td>--</td><td>--</td></tr>\n",
       "<tr><td>2760232</td><td>2</td><td>1</td><td>2458357.843604</td><td>0.001059</td><td>0.001026</td><td>0.01389</td><td>0.00162</td><td>0.00175</td><td>0.01612</td><td>0.00338</td><td>0.00394</td><td>--</td><td>--</td><td>--</td><td>--</td><td>--</td><td>--</td></tr>\n",
       "<tr><td>2760232</td><td>3</td><td>1</td><td>2458359.790770</td><td>0.000026</td><td>0.000026</td><td>0.28258</td><td>0.00817</td><td>0.00949</td><td>0.00196</td><td>0.00017</td><td>0.00017</td><td>--</td><td>--</td><td>--</td><td>--</td><td>--</td><td>--</td></tr>\n",
       "<tr><td>2760232</td><td>3</td><td>2</td><td>2458359.793415</td><td>0.000195</td><td>0.000195</td><td>0.04634</td><td>0.00589</td><td>0.00598</td><td>0.00610</td><td>0.00063</td><td>0.00062</td><td>--</td><td>--</td><td>--</td><td>--</td><td>--</td><td>--</td></tr>\n",
       "<tr><td>2760232</td><td>3</td><td>3</td><td>2458359.816881</td><td>0.001735</td><td>0.001565</td><td>0.01665</td><td>0.00185</td><td>0.00155</td><td>0.05816</td><td>0.00920</td><td>0.00928</td><td>--</td><td>--</td><td>--</td><td>--</td><td>--</td><td>--</td></tr>\n",
       "<tr><td>2760232</td><td>3</td><td>4</td><td>2458359.876649</td><td>0.000255</td><td>0.000404</td><td>0.01459</td><td>0.00396</td><td>0.00433</td><td>0.00265</td><td>0.00096</td><td>0.00233</td><td>--</td><td>--</td><td>--</td><td>--</td><td>--</td><td>--</td></tr>\n",
       "<tr><td>2760232</td><td>5</td><td>1</td><td>2458360.659582</td><td>0.000143</td><td>0.000150</td><td>0.03723</td><td>0.00206</td><td>0.00224</td><td>0.00456</td><td>0.00038</td><td>0.00041</td><td>--</td><td>--</td><td>--</td><td>--</td><td>--</td><td>--</td></tr>\n",
       "<tr><td>2760232</td><td>7</td><td>1</td><td>2458368.775507</td><td>0.000065</td><td>0.000055</td><td>0.13041</td><td>0.01312</td><td>0.01632</td><td>0.00156</td><td>0.00033</td><td>0.00033</td><td>--</td><td>--</td><td>--</td><td>--</td><td>--</td><td>--</td></tr>\n",
       "<tr><td>2760232</td><td>7</td><td>2</td><td>2458368.781088</td><td>0.000302</td><td>0.000407</td><td>0.06287</td><td>0.01261</td><td>0.00799</td><td>0.00837</td><td>0.00110</td><td>0.00117</td><td>--</td><td>--</td><td>--</td><td>--</td><td>--</td><td>--</td></tr>\n",
       "<tr><td>...</td><td>...</td><td>...</td><td>...</td><td>...</td><td>...</td><td>...</td><td>...</td><td>...</td><td>...</td><td>...</td><td>...</td><td>...</td><td>...</td><td>...</td><td>...</td><td>...</td><td>...</td></tr>\n",
       "<tr><td>471015484</td><td>4</td><td>3</td><td>2458364.202495</td><td>0.000620</td><td>0.000428</td><td>0.27214</td><td>0.03193</td><td>0.03749</td><td>0.01844</td><td>0.00345</td><td>0.00438</td><td>--</td><td>--</td><td>--</td><td>--</td><td>--</td><td>--</td></tr>\n",
       "<tr><td>471015484</td><td>5</td><td>1</td><td>2458369.654547</td><td>0.000014</td><td>0.000013</td><td>0.79058</td><td>0.01823</td><td>0.02035</td><td>0.00166</td><td>0.00007</td><td>0.00007</td><td>--</td><td>--</td><td>--</td><td>--</td><td>--</td><td>--</td></tr>\n",
       "<tr><td>471015484</td><td>6</td><td>1</td><td>2458369.952694</td><td>0.000626</td><td>0.000732</td><td>0.01966</td><td>0.00296</td><td>0.00306</td><td>0.00831</td><td>0.00211</td><td>0.00253</td><td>--</td><td>--</td><td>--</td><td>--</td><td>--</td><td>--</td></tr>\n",
       "<tr><td>471015484</td><td>7</td><td>1</td><td>2458370.422691</td><td>0.000266</td><td>0.000265</td><td>0.02356</td><td>0.00381</td><td>0.00456</td><td>0.00347</td><td>0.00112</td><td>0.00128</td><td>--</td><td>--</td><td>--</td><td>--</td><td>--</td><td>--</td></tr>\n",
       "<tr><td>471015484</td><td>9</td><td>1</td><td>2458370.922249</td><td>0.000070</td><td>0.000073</td><td>0.13585</td><td>0.00572</td><td>0.00568</td><td>0.00254</td><td>0.00018</td><td>0.00020</td><td>--</td><td>--</td><td>--</td><td>--</td><td>--</td><td>--</td></tr>\n",
       "<tr><td>471015484</td><td>10</td><td>1</td><td>2458373.463365</td><td>0.000201</td><td>0.000249</td><td>0.04478</td><td>0.00437</td><td>0.00442</td><td>0.00410</td><td>0.00100</td><td>0.00100</td><td>--</td><td>--</td><td>--</td><td>--</td><td>--</td><td>--</td></tr>\n",
       "<tr><td>471015484</td><td>10</td><td>2</td><td>2458373.469111</td><td>0.000323</td><td>0.000329</td><td>0.02797</td><td>0.00334</td><td>0.00339</td><td>0.00744</td><td>0.00207</td><td>0.00283</td><td>--</td><td>--</td><td>--</td><td>--</td><td>--</td><td>--</td></tr>\n",
       "<tr><td>471015484</td><td>11</td><td>1</td><td>2458378.504693</td><td>0.000151</td><td>0.000161</td><td>0.03871</td><td>0.00519</td><td>0.00646</td><td>0.00266</td><td>0.00070</td><td>0.00079</td><td>--</td><td>--</td><td>--</td><td>--</td><td>--</td><td>--</td></tr>\n",
       "<tr><td>471015484</td><td>12</td><td>1</td><td>2458379.662698</td><td>0.000078</td><td>0.000075</td><td>0.10938</td><td>0.00683</td><td>0.00801</td><td>0.00238</td><td>0.00031</td><td>0.00031</td><td>--</td><td>--</td><td>--</td><td>--</td><td>--</td><td>--</td></tr>\n",
       "</table></div>"
      ],
      "text/plain": [
       "<Table length=8695>\n",
       "   TIC    Outbst Flare    _tab2_5     ...  E_Ebol   MCME   e_MCME  E_MCME\n",
       "                             d        ... 1e-07 J    g       g       g   \n",
       "  int32   int16  uint8    float64     ... float32 float32 float32 float32\n",
       "--------- ------ ----- -------------- ... ------- ------- ------- -------\n",
       "  2760232      1     1 2458357.381046 ...      --      --      --      --\n",
       "  2760232      2     1 2458357.843604 ...      --      --      --      --\n",
       "  2760232      3     1 2458359.790770 ...      --      --      --      --\n",
       "  2760232      3     2 2458359.793415 ...      --      --      --      --\n",
       "  2760232      3     3 2458359.816881 ...      --      --      --      --\n",
       "  2760232      3     4 2458359.876649 ...      --      --      --      --\n",
       "  2760232      5     1 2458360.659582 ...      --      --      --      --\n",
       "  2760232      7     1 2458368.775507 ...      --      --      --      --\n",
       "  2760232      7     2 2458368.781088 ...      --      --      --      --\n",
       "      ...    ...   ...            ... ...     ...     ...     ...     ...\n",
       "471015484      4     3 2458364.202495 ...      --      --      --      --\n",
       "471015484      5     1 2458369.654547 ...      --      --      --      --\n",
       "471015484      6     1 2458369.952694 ...      --      --      --      --\n",
       "471015484      7     1 2458370.422691 ...      --      --      --      --\n",
       "471015484      9     1 2458370.922249 ...      --      --      --      --\n",
       "471015484     10     1 2458373.463365 ...      --      --      --      --\n",
       "471015484     10     2 2458373.469111 ...      --      --      --      --\n",
       "471015484     11     1 2458378.504693 ...      --      --      --      --\n",
       "471015484     12     1 2458379.662698 ...      --      --      --      --"
      ]
     },
     "execution_count": 12,
     "metadata": {},
     "output_type": "execute_result"
    }
   ],
   "source": [
    "Vizier.ROW_LIMIT = -1\n",
    "\n",
    "catalog_list = Vizier.find_catalogs('TESS flares sectors')\n",
    "catalogs = Vizier.get_catalogs('J/AJ/159/60')\n",
    "\n",
    "flare_table = catalogs[1]\n",
    "# flare_table.rename_column('_tab2_5', 'tpeak')\n",
    "flare_table.write(os.path.join(fn_dir, flare_catalog_name),\n",
    "                    format='csv', overwrite=True) # note: star data is the first table\n",
    "\n",
    "flare_table"
   ]
  },
  {
   "cell_type": "code",
   "execution_count": null,
   "metadata": {},
   "outputs": [
    {
     "data": {
      "text/html": [
       "SearchResult containing 3 data products.\n",
       "\n",
       "<table id=\"table10762098912\">\n",
       "<thead><tr><th>#</th><th>mission</th><th>year</th><th>author</th><th>exptime</th><th>target_name</th><th>distance</th></tr></thead>\n",
       "<thead><tr><th></th><th></th><th></th><th></th><th>s</th><th></th><th>arcsec</th></tr></thead>\n",
       "<tr><td>0</td><td>TESS Sector 02</td><td>2018</td><td><a href='https://heasarc.gsfc.nasa.gov/docs/tess/pipeline.html'>SPOC</a></td><td>120</td><td>2760232</td><td>0.0</td></tr>\n",
       "<tr><td>1</td><td>TESS Sector 29</td><td>2020</td><td><a href='https://heasarc.gsfc.nasa.gov/docs/tess/pipeline.html'>SPOC</a></td><td>120</td><td>2760232</td><td>0.0</td></tr>\n",
       "<tr><td>2</td><td>TESS Sector 69</td><td>2023</td><td><a href='https://heasarc.gsfc.nasa.gov/docs/tess/pipeline.html'>SPOC</a></td><td>120</td><td>2760232</td><td>0.0</td></tr>\n",
       "</table>"
      ],
      "text/plain": [
       "SearchResult containing 3 data products.\n",
       "\n",
       " #     mission     year author exptime target_name distance\n",
       "                                  s                 arcsec \n",
       "--- -------------- ---- ------ ------- ----------- --------\n",
       "  0 TESS Sector 02 2018   SPOC     120     2760232      0.0\n",
       "  1 TESS Sector 29 2020   SPOC     120     2760232      0.0\n",
       "  2 TESS Sector 69 2023   SPOC     120     2760232      0.0"
      ]
     },
     "execution_count": 38,
     "metadata": {},
     "output_type": "execute_result"
    }
   ],
   "source": [
    "result = lk.search_lightcurve('TIC 2760232', mission = 'TESS', exptime=120, author = 'SPOC')\n",
    "result"
   ]
  }
 ],
 "metadata": {
  "kernelspec": {
   "display_name": "stella_ENV",
   "language": "python",
   "name": "python3"
  },
  "language_info": {
   "codemirror_mode": {
    "name": "ipython",
    "version": 3
   },
   "file_extension": ".py",
   "mimetype": "text/x-python",
   "name": "python",
   "nbconvert_exporter": "python",
   "pygments_lexer": "ipython3",
   "version": "3.12.3"
  }
 },
 "nbformat": 4,
 "nbformat_minor": 2
}
